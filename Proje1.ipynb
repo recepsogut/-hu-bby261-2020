{
  "nbformat": 4,
  "nbformat_minor": 0,
  "metadata": {
    "colab": {
      "name": "Proje1",
      "provenance": [],
      "authorship_tag": "ABX9TyMDg/Y2Q+5dReOYdYR4gvfo",
      "include_colab_link": true
    },
    "kernelspec": {
      "name": "python3",
      "display_name": "Python 3"
    }
  },
  "cells": [
    {
      "cell_type": "markdown",
      "metadata": {
        "id": "view-in-github",
        "colab_type": "text"
      },
      "source": [
        "<a href=\"https://colab.research.google.com/github/recepsogut/-hu-bby261-2020/blob/main/Proje1.ipynb\" target=\"_parent\"><img src=\"https://colab.research.google.com/assets/colab-badge.svg\" alt=\"Open In Colab\"/></a>"
      ]
    },
    {
      "cell_type": "code",
      "metadata": {
        "id": "trKv072d9l-O",
        "outputId": "b79abbe9-f5f9-4fe2-deea-79d20368f49a",
        "colab": {
          "base_uri": "https://localhost:8080/"
        }
      },
      "source": [
        "\n",
        "\n",
        "Metin = \"Dünyanın en güzel hayvanı atlardır.\"\n",
        "x = input(\"aranan kelimeyi giriniz\")\n",
        "bul = Metin.split()\n",
        "at = bul.count(x)\n",
        "print(at)\n",
        "\n"
      ],
      "execution_count": 1,
      "outputs": [
        {
          "output_type": "stream",
          "text": [
            "aranan kelimeyi girinizF\n",
            "0\n"
          ],
          "name": "stdout"
        }
      ]
    }
  ]
}