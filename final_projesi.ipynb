{
  "nbformat": 4,
  "nbformat_minor": 0,
  "metadata": {
    "colab": {
      "name": "final_projesi.ipynb",
      "provenance": [],
      "authorship_tag": "ABX9TyP2Iof1E8PNtKriuhr20J79",
      "include_colab_link": true
    },
    "kernelspec": {
      "display_name": "Python 3",
      "name": "python3"
    }
  },
  "cells": [
    {
      "cell_type": "markdown",
      "metadata": {
        "id": "view-in-github",
        "colab_type": "text"
      },
      "source": [
        "<a href=\"https://colab.research.google.com/github/recepsogut/-hu-bby261-2020/blob/main/final_projesi.ipynb\" target=\"_parent\"><img src=\"https://colab.research.google.com/assets/colab-badge.svg\" alt=\"Open In Colab\"/></a>"
      ]
    },
    {
      "cell_type": "code",
      "metadata": {
        "colab": {
          "base_uri": "https://localhost:8080/",
          "height": 393
        },
        "id": "ms_1Z8xbc1sN",
        "outputId": "9081b5fa-c32b-44e9-fc8f-280f75f758ab"
      },
      "source": [
        "from PyQt4.QtGui import *\r\n",
        "from PyQt4.QtCore import *\r\n",
        "\r\n",
        "class yakitHesaplayicisi(QDialog):\r\n",
        "    def _init_(self, ebeveyn=None):\r\n",
        "        super(yakitHesaplayicisi, self).__init__(ebeveyn)\r\n",
        "        \r\n",
        "        grid=QGridLayout()\r\n",
        "        grid.addWidget(QLabel('Gideceğiniz yol (KM): '),0,0)\r\n",
        "        self.gidilenYol=QLineEdit()\r\n",
        "        self.gidilenYol.setInputMask('0000000000')\r\n",
        "        grid.addWidget(self.gidilenYol,0,1)\r\n",
        "        \r\n",
        "        grid.addWidget(QLabel('Yakıtın Litre Fiyatı'),1,0)\r\n",
        "        self.yakitFiyati=QLineEdit()\r\n",
        "        self.yakitFiyati.setInputMask('0.00')\r\n",
        "        grid.addWidget(self.yakitFiyati,1,1)\r\n",
        "        \r\n",
        "        grid.addWidget(QLabel(\"100 Km'de Tüketilen Yakıt: \"),2,0)\r\n",
        "        self.yakitTuketimi=QLineEdit()\r\n",
        "        self.yakitTuketimi.setInputMask('00.0')\r\n",
        "        grid.addWidget(self.yakitTuketimi, 2,1)\r\n",
        "        \r\n",
        "        grid.addWidget(QLabel('Toplam Tutar: '),3,0)\r\n",
        "        self.tutar=QLabel('<i>KM GİRİNİZ</i>')\r\n",
        "        grid.addWidget(self.tutar,3,1)\r\n",
        "        \r\n",
        "        hedaplaDugme=QPushButton('Hesapla')\r\n",
        "        self.connect(hedaplaDugme, SIGNAL('pressed()'), self.yakitHesapla)\r\n",
        "        grid.addWidget(hedaplaDugme,4,0,1,2)\r\n",
        "        \r\n",
        "        self.setLayout(grid)\r\n",
        "        self.setWindowTitle('Yakıt Hesaplayıcısı')\r\n",
        "        \r\n",
        "    def yakitHesapla(self):\r\n",
        "        yol=0\r\n",
        "        try: yol=int(self.gidilenYol.text())\r\n",
        "        except: pass\r\n",
        "        fiyat=0\r\n",
        "        try: fiyat=float(self.yakitFiyati.text())\r\n",
        "        except: pass\r\n",
        "        tuketim=0\r\n",
        "        try: tuketim=float(self.yakitTuketimi.text())\r\n",
        "        except: pass\r\n",
        "        \r\n",
        "        if not yol:\r\n",
        "            self.tutar.setText('<font color=\"red\"><i>KM giriniz</i></font>')\r\n",
        "            self.gidilenYol.setFocus()\r\n",
        "        elif not fiyat:\r\n",
        "                self.tutar.setText('<font color=\"red\"><i>Fiyat giriniz</i></font>')\r\n",
        "                self.yakitFiyati.setFocus()\r\n",
        "        elif not tuketim:\r\n",
        "                self.tutar.setText('<font color=\"red\"><i>Tüketim giriniz</i></font>')\r\n",
        "                self.yakitTuketimi.setFocus()\r\n",
        "        else:\r\n",
        "                    tutar=fiyat*(yol*tuketim)/100\r\n",
        "                    self.tutar.setText('<font color=\"blue\"><b>%0.2f</b> TL</font>' % tutar)\r\n",
        "uyg=QApplication([])\r\n",
        "pencere=yakitHesaplayicisi()\r\n",
        "pencere.show()\r\n",
        "uyg.exec_()  "
      ],
      "execution_count": null,
      "outputs": [
        {
          "output_type": "error",
          "ename": "ModuleNotFoundError",
          "evalue": "ignored",
          "traceback": [
            "\u001b[0;31m---------------------------------------------------------------------------\u001b[0m",
            "\u001b[0;31mModuleNotFoundError\u001b[0m                       Traceback (most recent call last)",
            "\u001b[0;32m<ipython-input-60-79ec795ae7bc>\u001b[0m in \u001b[0;36m<module>\u001b[0;34m()\u001b[0m\n\u001b[0;32m----> 1\u001b[0;31m \u001b[0;32mfrom\u001b[0m \u001b[0mPyQt4\u001b[0m\u001b[0;34m.\u001b[0m\u001b[0mQtGui\u001b[0m \u001b[0;32mimport\u001b[0m \u001b[0;34m*\u001b[0m\u001b[0;34m\u001b[0m\u001b[0;34m\u001b[0m\u001b[0m\n\u001b[0m\u001b[1;32m      2\u001b[0m \u001b[0;32mfrom\u001b[0m \u001b[0mPyQt4\u001b[0m\u001b[0;34m.\u001b[0m\u001b[0mQtCore\u001b[0m \u001b[0;32mimport\u001b[0m \u001b[0;34m*\u001b[0m\u001b[0;34m\u001b[0m\u001b[0;34m\u001b[0m\u001b[0m\n\u001b[1;32m      3\u001b[0m \u001b[0;34m\u001b[0m\u001b[0m\n\u001b[1;32m      4\u001b[0m \u001b[0;32mclass\u001b[0m \u001b[0myakitHesaplayicisi\u001b[0m\u001b[0;34m(\u001b[0m\u001b[0mQDialog\u001b[0m\u001b[0;34m)\u001b[0m\u001b[0;34m:\u001b[0m\u001b[0;34m\u001b[0m\u001b[0;34m\u001b[0m\u001b[0m\n\u001b[1;32m      5\u001b[0m     \u001b[0;32mdef\u001b[0m \u001b[0m_init_\u001b[0m\u001b[0;34m(\u001b[0m\u001b[0mself\u001b[0m\u001b[0;34m,\u001b[0m \u001b[0mebeveyn\u001b[0m\u001b[0;34m=\u001b[0m\u001b[0;32mNone\u001b[0m\u001b[0;34m)\u001b[0m\u001b[0;34m:\u001b[0m\u001b[0;34m\u001b[0m\u001b[0;34m\u001b[0m\u001b[0m\n",
            "\u001b[0;31mModuleNotFoundError\u001b[0m: No module named 'PyQt4'",
            "",
            "\u001b[0;31m---------------------------------------------------------------------------\u001b[0;32m\nNOTE: If your import is failing due to a missing package, you can\nmanually install dependencies using either !pip or !apt.\n\nTo view examples of installing some common dependencies, click the\n\"Open Examples\" button below.\n\u001b[0;31m---------------------------------------------------------------------------\u001b[0m\n"
          ]
        }
      ]
    }
  ]
}